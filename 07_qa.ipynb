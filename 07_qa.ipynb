{
 "cells": [
  {
   "cell_type": "markdown",
   "id": "a58f984c",
   "metadata": {},
   "source": [
    "# Question Answering"
   ]
  },
  {
   "cell_type": "code",
   "execution_count": 1,
   "id": "9cb833bc",
   "metadata": {},
   "outputs": [
    {
     "data": {
      "text/plain": [
       "['books', 'electronics', 'grocery', 'movies', 'restaurants', 'tripadvisor']"
      ]
     },
     "execution_count": 1,
     "metadata": {},
     "output_type": "execute_result"
    }
   ],
   "source": [
    "from datasets import get_dataset_config_names\n",
    "\n",
    "domains = get_dataset_config_names(\"subjqa\")\n",
    "domains"
   ]
  },
  {
   "cell_type": "code",
   "execution_count": 2,
   "id": "d86b31b4",
   "metadata": {},
   "outputs": [],
   "source": [
    "## For our case, we will focus on building a QA system for the Electronics domain\n",
    "\n",
    "from datasets import load_dataset\n",
    "subjqa = load_dataset(\"subjqa\", name = \"electronics\")"
   ]
  },
  {
   "cell_type": "code",
   "execution_count": 3,
   "id": "4812685d",
   "metadata": {},
   "outputs": [
    {
     "name": "stdout",
     "output_type": "stream",
     "text": [
      "{'text': ['Bass is weak as expected', 'Bass is weak as expected, even with EQ adjusted up'], 'answer_start': [1302, 1302], 'answer_subj_level': [1, 1], 'ans_subj_score': [0.5083333253860474, 0.5083333253860474], 'is_ans_subjective': [True, True]}\n"
     ]
    }
   ],
   "source": [
    "print(subjqa['train'][\"answers\"][1])"
   ]
  },
  {
   "cell_type": "markdown",
   "id": "5e37e6eb",
   "metadata": {},
   "source": [
    "we can see that the answers are stored in a text field, while the starting character indices are provided in answer_start. To explore the dataset more easily, we’ll flatten these nested columns with the flatten() method and convert each split to a Pandas\n",
    "DataFrame as follows:"
   ]
  },
  {
   "cell_type": "code",
   "execution_count": 4,
   "id": "7cab6eb1",
   "metadata": {},
   "outputs": [
    {
     "name": "stdout",
     "output_type": "stream",
     "text": [
      "Number of questions in train: 1295\n",
      "Number of questions in test: 358\n",
      "Number of questions in validation: 255\n"
     ]
    }
   ],
   "source": [
    "import pandas as pd\n",
    "\n",
    "dfs = {split: dset.to_pandas() for split, dset in subjqa.flatten().items()}\n",
    "\n",
    "for split, df in dfs.items():\n",
    "    print(f\"Number of questions in {split}: {df['id'].nunique()}\")"
   ]
  },
  {
   "cell_type": "markdown",
   "id": "2b824602",
   "metadata": {},
   "source": [
    "Notice that the dataset is relatively small, with only 1,908 examples in total. This simulates a real-world scenario, since getting domain experts to label extractive QA datasets is labor-intensive and expensive."
   ]
  },
  {
   "cell_type": "code",
   "execution_count": 5,
   "id": "7f4227ce",
   "metadata": {},
   "outputs": [
    {
     "data": {
      "application/vnd.microsoft.datawrangler.viewer.v0+json": {
       "columns": [
        {
         "name": "index",
         "rawType": "int64",
         "type": "integer"
        },
        {
         "name": "domain",
         "rawType": "object",
         "type": "string"
        },
        {
         "name": "nn_mod",
         "rawType": "object",
         "type": "string"
        },
        {
         "name": "nn_asp",
         "rawType": "object",
         "type": "string"
        },
        {
         "name": "query_mod",
         "rawType": "object",
         "type": "string"
        },
        {
         "name": "query_asp",
         "rawType": "object",
         "type": "string"
        },
        {
         "name": "q_reviews_id",
         "rawType": "object",
         "type": "string"
        },
        {
         "name": "question_subj_level",
         "rawType": "int64",
         "type": "integer"
        },
        {
         "name": "ques_subj_score",
         "rawType": "float32",
         "type": "float"
        },
        {
         "name": "is_ques_subjective",
         "rawType": "bool",
         "type": "boolean"
        },
        {
         "name": "review_id",
         "rawType": "object",
         "type": "string"
        },
        {
         "name": "id",
         "rawType": "object",
         "type": "string"
        },
        {
         "name": "title",
         "rawType": "object",
         "type": "string"
        },
        {
         "name": "context",
         "rawType": "object",
         "type": "string"
        },
        {
         "name": "question",
         "rawType": "object",
         "type": "string"
        },
        {
         "name": "answers.text",
         "rawType": "object",
         "type": "unknown"
        },
        {
         "name": "answers.answer_start",
         "rawType": "object",
         "type": "unknown"
        },
        {
         "name": "answers.answer_subj_level",
         "rawType": "object",
         "type": "unknown"
        },
        {
         "name": "answers.ans_subj_score",
         "rawType": "object",
         "type": "unknown"
        },
        {
         "name": "answers.is_ans_subjective",
         "rawType": "object",
         "type": "unknown"
        }
       ],
       "ref": "41499b62-bc21-4c38-86be-8b68a76149ed",
       "rows": [
        [
         "0",
         "electronics",
         "great",
         "bass response",
         "excellent",
         "bass",
         "0514ee34b672623dff659334a25b599b",
         "5",
         "0.5",
         "False",
         "882b1e2745a4779c8f17b3d4406b91c7",
         "2543d296da9766d8d17d040ecc781699",
         "B00001P4ZH",
         "I have had Koss headphones in the past, Pro 4AA and QZ-99.  The Koss Portapro is portable AND has great bass response.  The work great with my Android phone and can be \"rolled up\" to be carried in my motorcycle jacket or computer bag without getting crunched.  They are very light and do not feel heavy or bear down on your ears even after listening to music with them on all day.  The sound is night and day better than any ear-bud could be and are almost as good as the Pro 4AA.  They are \"open air\" headphones so you cannot match the bass to the sealed types, but it comes close. For $32, you cannot go wrong.",
         "How is the bass?",
         "[]",
         "[]",
         "[]",
         "[]",
         "[]"
        ],
        [
         "1",
         "electronics",
         "harsh",
         "high",
         "not strong",
         "bass",
         "7c46670208f7bf5497480fbdbb44561a",
         "1",
         "0.5",
         "False",
         "ce76793f036494eabe07b33a9a67288a",
         "d476830bf9282e2b9033e2bb44bbb995",
         "B00001P4ZH",
         "To anyone who hasn't tried all the various types of headphones, it is important to remember exactly what these are: cheap portable on-ear headphones. They give a totally different sound then in-ears or closed design phones, but for what they are I would say they're good. I currently own six pairs of phones, from stock apple earbuds to Sennheiser HD 518s. Gave my Portapros a run on both my computer's sound card and mp3 player, using 256 kbps mp3s or better. The clarity is good and they're very lightweight. The folding design is simple but effective. The look is certainly retro and unique, although I didn't find it as comfortable as many have claimed. Earpads are *very* thin and made my ears sore after 30 minutes of listening, although this can be remedied to a point by adjusting the \"comfort zone\" feature (tightening the temple pads while loosening the ear pads). The cord seems to be an average thickness, but I wouldn't get too rough with these. The steel headband adjusts smoothly and easily, just watch out that the slider doesn't catch your hair. Despite the sore ears, the phones are very lightweight overall.Back to the sound: as you would expect, it's good for a portable phone, but hardly earth shattering. At flat EQ the clarity is good, although the highs can sometimes be harsh. Bass is weak as expected, even with EQ adjusted up. To be fair, a portable on-ear would have a tough time comparing to the bass of an in-ear with a good seal or a pair with larger drivers. No sound isolation offered if you're into that sort of thing. Cool 80s phones, though I've certainly owned better portable on-ears (Sony makes excellent phones in this category). Soundstage is very narrow and lacks body. A good value if you can get them for under thirty, otherwise I'd rather invest in a nicer pair of phones. If we're talking about value, they're a good buy compared to new stock apple buds. If you're trying to compare the sound quality of this product to serious headphones, there's really no comparison at all.Update: After 100 hours of burn-in time the sound has not been affected in any appreciable way. Highs are still harsh, and bass is still underwhelming. I sometimes use these as a convenience but they have been largely replaced in my collection.",
         "Is this music song have a goo bass?",
         "['Bass is weak as expected'\n 'Bass is weak as expected, even with EQ adjusted up']",
         "[1302 1302]",
         "[1 1]",
         "[0.5083333 0.5083333]",
         "[ True  True]"
        ],
        [
         "2",
         "electronics",
         "neutral",
         "sound",
         "present",
         "bass",
         "8fbf26792c438aa83178c2d507af5d77",
         "1",
         "0.5",
         "False",
         "d040f2713caa2aff0ce95affb40e12c2",
         "455575557886d6dfeea5aa19577e5de4",
         "B00001P4ZH",
         "I have had many sub-$100 headphones from $5 Panasonic to $100 Sony, with Sennheiser HD 433, 202, PX100 II (I really wanted to like these PX100-II, they were so very well designed), and even a Grado SR60 for awhile.  And what it basically comes down to is value.  I have never heard sound as good as these headphones in the $35 range, easily the best under $75.  I can't believe they're over 25 years old.It's hard to describe how much detail these headphones bring out without making it too harsh or dull.  I listen to every type of music from classical to hip hop to electronic to country, and these headphones are suitable for all types of music.  The only fault in the sound is the bass.  It's just a *slight* bit boomy, but you get to like it after a while to be honest.The design is from the 80s as you all have probably figured out.  It could use a update but it seems like Koss has tried to perfect this formula and failed in the past.  I don't really care about the looks or the way it folds up or the fact that my hair gets caught up in it (I have very short hair, even for a male).But despite it's design flaws, it's the most comfortable headphones I have ever worn, and the best part is that it's also the best sounding pair of headphones I have ever heard under $75.If you can get over the design flaws or if sound is the most important feature of headphones for you, there is nothing even close to this at this price range.This one is an absolute GEM.  I loved these so much I ordered two of the 25th Anniversary ones for a bit more.Update: I read some reviews about the PX100-II being much improved and better sounding than the PortaPro.  Since the PX100-II is relatively new, I thought I'd give it another listen.  This time I noticed something different.  The sound is warm, mellow, and neutral, but it loses a lot of detail at the expense of these attributes.  I still prefer higher-detail Portapro, but some may prefer the more mellow sound of the PX100-II.Oh by the way the Portapro comes in the straight plug now, not the angled plug anymore.  It's supposed to be for better compatibility with the iPods and iPhones out there.",
         "How is the bass?",
         "['The only fault in the sound is the bass']",
         "[650]",
         "[2]",
         "[0.6333333]",
         "[ True]"
        ],
        [
         "3",
         "electronics",
         "muddy",
         "bass",
         "awesome",
         "bass",
         "9876fd06ed8f075fcad70d1e30e7e8be",
         "1",
         "0.5",
         "False",
         "043e7162df91f6ea916c790c8a6f6b22",
         "6895a59b470d8feee0f39da6c53a92e5",
         "B00001WRSJ",
         "My sister's Bose headphones finally died and so, her being a super audiophile without enough money to buy the high-end stuff, i gave her my JVC HA-RX700 and she loves them even more than the Bose. So that left me with nothing, and therefore i decided to undertake the quest to find the best headphones for under $50 that I could. I looked at so many headphones, and i still loved my JVC's, but i decided i should probably try something new. and then i found these...I would say that I am...an untrained-audiophile of sorts and have just recently started to be pickier about my headphones. i can pick out minute differences in music and how headphones represent them if i really want to, but it doesn't exactly \"bother\" me terribly when bass is muddy or treble is harsh, etc. That being said, i loved my JVC's and was sad to see them go, but I've gotta say, i love these bad boys even more. I think it's the bass that separates them...it's punchier and more...accurate, you know? without being overly done. out of the box they had a bit too much sibilance (i think that's the right word), but they've broken in a bit and it's less harsh in that range. but the bass...wow. otherwise they're very similar in my opinion to the JVC's. The treble might be a tad better, but not much if at all. I don't know enough of the proper wording to describe much more about it, but that's my two cents. They're also very comfortable, not too tight or anything and very soft padding. I highly recommend them, i can't imagine headphones getting that much better. i've heard Beats by Dre, Bose, and the JVCs, and these are just the best of all of them to me.",
         "How is the audio bass?",
         "['the best of all of them']",
         "[1609]",
         "[1]",
         "[0.3]",
         "[False]"
        ],
        [
         "4",
         "electronics",
         "perfect",
         "bass",
         "incredible",
         "sound",
         "16506b53e2d4c2b6a65881d9462256c2",
         "1",
         "0.65",
         "True",
         "29ccd7e690050e2951be49289e915382",
         "7a2173c502da97c5bd5950eae7cd7430",
         "B00001WRSJ",
         "Wow. Just wow. I'm a 22 yr old with a crazy obsession with sound and music. Audiophile? Maybe. These headphones are so perfect in every way. The sound is so crisp, clear and clean, the design is awesome and simple and the materials are very high quality. They are so comfortable even for my sensitive ears. The bass is just absolutely perfect, not choppy or muddy at all. Forget the Beats, forget the Souls by Ludacris, save yourself the money and get higher quality at half the price. There's no surprise that these have been so widely used for almost 30 years. The included adapter is perfect because it allows me to use these cans in my iPhone and home audio system which is also 100% Sony, I just love their audio hardware.",
         "Why do I have an incredible sound?",
         "['The sound is so crisp' 'crazy obsession with sound and music']",
         "[141  38]",
         "[1 1]",
         "[0.40833333 0.40833333]",
         "[False False]"
        ]
       ],
       "shape": {
        "columns": 19,
        "rows": 5
       }
      },
      "text/html": [
       "<div>\n",
       "<style scoped>\n",
       "    .dataframe tbody tr th:only-of-type {\n",
       "        vertical-align: middle;\n",
       "    }\n",
       "\n",
       "    .dataframe tbody tr th {\n",
       "        vertical-align: top;\n",
       "    }\n",
       "\n",
       "    .dataframe thead th {\n",
       "        text-align: right;\n",
       "    }\n",
       "</style>\n",
       "<table border=\"1\" class=\"dataframe\">\n",
       "  <thead>\n",
       "    <tr style=\"text-align: right;\">\n",
       "      <th></th>\n",
       "      <th>domain</th>\n",
       "      <th>nn_mod</th>\n",
       "      <th>nn_asp</th>\n",
       "      <th>query_mod</th>\n",
       "      <th>query_asp</th>\n",
       "      <th>q_reviews_id</th>\n",
       "      <th>question_subj_level</th>\n",
       "      <th>ques_subj_score</th>\n",
       "      <th>is_ques_subjective</th>\n",
       "      <th>review_id</th>\n",
       "      <th>id</th>\n",
       "      <th>title</th>\n",
       "      <th>context</th>\n",
       "      <th>question</th>\n",
       "      <th>answers.text</th>\n",
       "      <th>answers.answer_start</th>\n",
       "      <th>answers.answer_subj_level</th>\n",
       "      <th>answers.ans_subj_score</th>\n",
       "      <th>answers.is_ans_subjective</th>\n",
       "    </tr>\n",
       "  </thead>\n",
       "  <tbody>\n",
       "    <tr>\n",
       "      <th>0</th>\n",
       "      <td>electronics</td>\n",
       "      <td>great</td>\n",
       "      <td>bass response</td>\n",
       "      <td>excellent</td>\n",
       "      <td>bass</td>\n",
       "      <td>0514ee34b672623dff659334a25b599b</td>\n",
       "      <td>5</td>\n",
       "      <td>0.50</td>\n",
       "      <td>False</td>\n",
       "      <td>882b1e2745a4779c8f17b3d4406b91c7</td>\n",
       "      <td>2543d296da9766d8d17d040ecc781699</td>\n",
       "      <td>B00001P4ZH</td>\n",
       "      <td>I have had Koss headphones in the past, Pro 4A...</td>\n",
       "      <td>How is the bass?</td>\n",
       "      <td>[]</td>\n",
       "      <td>[]</td>\n",
       "      <td>[]</td>\n",
       "      <td>[]</td>\n",
       "      <td>[]</td>\n",
       "    </tr>\n",
       "    <tr>\n",
       "      <th>1</th>\n",
       "      <td>electronics</td>\n",
       "      <td>harsh</td>\n",
       "      <td>high</td>\n",
       "      <td>not strong</td>\n",
       "      <td>bass</td>\n",
       "      <td>7c46670208f7bf5497480fbdbb44561a</td>\n",
       "      <td>1</td>\n",
       "      <td>0.50</td>\n",
       "      <td>False</td>\n",
       "      <td>ce76793f036494eabe07b33a9a67288a</td>\n",
       "      <td>d476830bf9282e2b9033e2bb44bbb995</td>\n",
       "      <td>B00001P4ZH</td>\n",
       "      <td>To anyone who hasn't tried all the various typ...</td>\n",
       "      <td>Is this music song have a goo bass?</td>\n",
       "      <td>[Bass is weak as expected, Bass is weak as exp...</td>\n",
       "      <td>[1302, 1302]</td>\n",
       "      <td>[1, 1]</td>\n",
       "      <td>[0.5083333, 0.5083333]</td>\n",
       "      <td>[True, True]</td>\n",
       "    </tr>\n",
       "    <tr>\n",
       "      <th>2</th>\n",
       "      <td>electronics</td>\n",
       "      <td>neutral</td>\n",
       "      <td>sound</td>\n",
       "      <td>present</td>\n",
       "      <td>bass</td>\n",
       "      <td>8fbf26792c438aa83178c2d507af5d77</td>\n",
       "      <td>1</td>\n",
       "      <td>0.50</td>\n",
       "      <td>False</td>\n",
       "      <td>d040f2713caa2aff0ce95affb40e12c2</td>\n",
       "      <td>455575557886d6dfeea5aa19577e5de4</td>\n",
       "      <td>B00001P4ZH</td>\n",
       "      <td>I have had many sub-$100 headphones from $5 Pa...</td>\n",
       "      <td>How is the bass?</td>\n",
       "      <td>[The only fault in the sound is the bass]</td>\n",
       "      <td>[650]</td>\n",
       "      <td>[2]</td>\n",
       "      <td>[0.6333333]</td>\n",
       "      <td>[True]</td>\n",
       "    </tr>\n",
       "    <tr>\n",
       "      <th>3</th>\n",
       "      <td>electronics</td>\n",
       "      <td>muddy</td>\n",
       "      <td>bass</td>\n",
       "      <td>awesome</td>\n",
       "      <td>bass</td>\n",
       "      <td>9876fd06ed8f075fcad70d1e30e7e8be</td>\n",
       "      <td>1</td>\n",
       "      <td>0.50</td>\n",
       "      <td>False</td>\n",
       "      <td>043e7162df91f6ea916c790c8a6f6b22</td>\n",
       "      <td>6895a59b470d8feee0f39da6c53a92e5</td>\n",
       "      <td>B00001WRSJ</td>\n",
       "      <td>My sister's Bose headphones finally died and s...</td>\n",
       "      <td>How is the audio bass?</td>\n",
       "      <td>[the best of all of them]</td>\n",
       "      <td>[1609]</td>\n",
       "      <td>[1]</td>\n",
       "      <td>[0.3]</td>\n",
       "      <td>[False]</td>\n",
       "    </tr>\n",
       "    <tr>\n",
       "      <th>4</th>\n",
       "      <td>electronics</td>\n",
       "      <td>perfect</td>\n",
       "      <td>bass</td>\n",
       "      <td>incredible</td>\n",
       "      <td>sound</td>\n",
       "      <td>16506b53e2d4c2b6a65881d9462256c2</td>\n",
       "      <td>1</td>\n",
       "      <td>0.65</td>\n",
       "      <td>True</td>\n",
       "      <td>29ccd7e690050e2951be49289e915382</td>\n",
       "      <td>7a2173c502da97c5bd5950eae7cd7430</td>\n",
       "      <td>B00001WRSJ</td>\n",
       "      <td>Wow. Just wow. I'm a 22 yr old with a crazy ob...</td>\n",
       "      <td>Why do I have an incredible sound?</td>\n",
       "      <td>[The sound is so crisp, crazy obsession with s...</td>\n",
       "      <td>[141, 38]</td>\n",
       "      <td>[1, 1]</td>\n",
       "      <td>[0.40833333, 0.40833333]</td>\n",
       "      <td>[False, False]</td>\n",
       "    </tr>\n",
       "  </tbody>\n",
       "</table>\n",
       "</div>"
      ],
      "text/plain": [
       "        domain   nn_mod         nn_asp   query_mod query_asp  \\\n",
       "0  electronics    great  bass response   excellent      bass   \n",
       "1  electronics    harsh           high  not strong      bass   \n",
       "2  electronics  neutral          sound     present      bass   \n",
       "3  electronics    muddy           bass     awesome      bass   \n",
       "4  electronics  perfect           bass  incredible     sound   \n",
       "\n",
       "                       q_reviews_id  question_subj_level  ques_subj_score  \\\n",
       "0  0514ee34b672623dff659334a25b599b                    5             0.50   \n",
       "1  7c46670208f7bf5497480fbdbb44561a                    1             0.50   \n",
       "2  8fbf26792c438aa83178c2d507af5d77                    1             0.50   \n",
       "3  9876fd06ed8f075fcad70d1e30e7e8be                    1             0.50   \n",
       "4  16506b53e2d4c2b6a65881d9462256c2                    1             0.65   \n",
       "\n",
       "   is_ques_subjective                         review_id  \\\n",
       "0               False  882b1e2745a4779c8f17b3d4406b91c7   \n",
       "1               False  ce76793f036494eabe07b33a9a67288a   \n",
       "2               False  d040f2713caa2aff0ce95affb40e12c2   \n",
       "3               False  043e7162df91f6ea916c790c8a6f6b22   \n",
       "4                True  29ccd7e690050e2951be49289e915382   \n",
       "\n",
       "                                 id       title  \\\n",
       "0  2543d296da9766d8d17d040ecc781699  B00001P4ZH   \n",
       "1  d476830bf9282e2b9033e2bb44bbb995  B00001P4ZH   \n",
       "2  455575557886d6dfeea5aa19577e5de4  B00001P4ZH   \n",
       "3  6895a59b470d8feee0f39da6c53a92e5  B00001WRSJ   \n",
       "4  7a2173c502da97c5bd5950eae7cd7430  B00001WRSJ   \n",
       "\n",
       "                                             context  \\\n",
       "0  I have had Koss headphones in the past, Pro 4A...   \n",
       "1  To anyone who hasn't tried all the various typ...   \n",
       "2  I have had many sub-$100 headphones from $5 Pa...   \n",
       "3  My sister's Bose headphones finally died and s...   \n",
       "4  Wow. Just wow. I'm a 22 yr old with a crazy ob...   \n",
       "\n",
       "                              question  \\\n",
       "0                     How is the bass?   \n",
       "1  Is this music song have a goo bass?   \n",
       "2                     How is the bass?   \n",
       "3               How is the audio bass?   \n",
       "4   Why do I have an incredible sound?   \n",
       "\n",
       "                                        answers.text answers.answer_start  \\\n",
       "0                                                 []                   []   \n",
       "1  [Bass is weak as expected, Bass is weak as exp...         [1302, 1302]   \n",
       "2          [The only fault in the sound is the bass]                [650]   \n",
       "3                          [the best of all of them]               [1609]   \n",
       "4  [The sound is so crisp, crazy obsession with s...            [141, 38]   \n",
       "\n",
       "  answers.answer_subj_level    answers.ans_subj_score  \\\n",
       "0                        []                        []   \n",
       "1                    [1, 1]    [0.5083333, 0.5083333]   \n",
       "2                       [2]               [0.6333333]   \n",
       "3                       [1]                     [0.3]   \n",
       "4                    [1, 1]  [0.40833333, 0.40833333]   \n",
       "\n",
       "  answers.is_ans_subjective  \n",
       "0                        []  \n",
       "1              [True, True]  \n",
       "2                    [True]  \n",
       "3                   [False]  \n",
       "4            [False, False]  "
      ]
     },
     "execution_count": 5,
     "metadata": {},
     "output_type": "execute_result"
    }
   ],
   "source": [
    "dfs['train'].head()"
   ]
  },
  {
   "cell_type": "markdown",
   "id": "46cdb86f",
   "metadata": {},
   "source": [
    "There are quite a few columns in the subjQA, but the most interesting ones for building our QA system are shown below:\n",
    "\n",
    "| Column Name | Description |\n",
    "|:--------:|:--------:|\n",
    "|  title   | The Amazon Standard Identification Number (ASIN) associated with each product |\n",
    "|  question  | The Question    |\n",
    "|  answers.text | The span of text in the review labeled by the annotator |\n",
    "| answers.answer_start | The start character index of the answer span |\n",
    "| context | The customer review |"
   ]
  },
  {
   "cell_type": "code",
   "execution_count": 6,
   "id": "0758e025",
   "metadata": {},
   "outputs": [
    {
     "data": {
      "application/vnd.microsoft.datawrangler.viewer.v0+json": {
       "columns": [
        {
         "name": "index",
         "rawType": "int64",
         "type": "integer"
        },
        {
         "name": "title",
         "rawType": "object",
         "type": "string"
        },
        {
         "name": "question",
         "rawType": "object",
         "type": "string"
        },
        {
         "name": "answers.text",
         "rawType": "object",
         "type": "unknown"
        },
        {
         "name": "answers.answer_start",
         "rawType": "object",
         "type": "unknown"
        },
        {
         "name": "context",
         "rawType": "object",
         "type": "string"
        }
       ],
       "ref": "8622c8e0-8eab-4adc-a2a2-a035ae7b7f01",
       "rows": [
        [
         "791",
         "B005DKZTMG",
         "Does the keyboard lightweight?",
         "['this keyboard is compact']",
         "[215]",
         "I really like this keyboard.  I give it 4 stars because it doesn't have a CAPS LOCK key so I never know if my caps are on.  But for the price, it really suffices as a wireless keyboard.  I have very large hands and this keyboard is compact, but I have no complaints."
        ],
        [
         "1159",
         "B00AAIPT76",
         "How is the battery?",
         "[]",
         "[]",
         "I bought this after the first spare gopro battery I bought wouldn't hold a charge. I have very realistic expectations of this sort of product, I am skeptical of amazing stories of charge time and battery life but I do expect the batteries to hold a charge for a couple of weeks at least and for the charger to work like a charger. In this I was not disappointed. I am a river rafter and found that the gopro burns through power in a hurry so this purchase solved that issue. the batteries held a charge, on shorter trips the extra two batteries were enough and on longer trips I could use my friends JOOS Orange to recharge them.I just bought a newtrent xtreme powerpak and expect to be able to charge these with that so I will not run out of power again."
        ]
       ],
       "shape": {
        "columns": 5,
        "rows": 2
       }
      },
      "text/html": [
       "<div>\n",
       "<style scoped>\n",
       "    .dataframe tbody tr th:only-of-type {\n",
       "        vertical-align: middle;\n",
       "    }\n",
       "\n",
       "    .dataframe tbody tr th {\n",
       "        vertical-align: top;\n",
       "    }\n",
       "\n",
       "    .dataframe thead th {\n",
       "        text-align: right;\n",
       "    }\n",
       "</style>\n",
       "<table border=\"1\" class=\"dataframe\">\n",
       "  <thead>\n",
       "    <tr style=\"text-align: right;\">\n",
       "      <th></th>\n",
       "      <th>title</th>\n",
       "      <th>question</th>\n",
       "      <th>answers.text</th>\n",
       "      <th>answers.answer_start</th>\n",
       "      <th>context</th>\n",
       "    </tr>\n",
       "  </thead>\n",
       "  <tbody>\n",
       "    <tr>\n",
       "      <th>791</th>\n",
       "      <td>B005DKZTMG</td>\n",
       "      <td>Does the keyboard lightweight?</td>\n",
       "      <td>[this keyboard is compact]</td>\n",
       "      <td>[215]</td>\n",
       "      <td>I really like this keyboard.  I give it 4 star...</td>\n",
       "    </tr>\n",
       "    <tr>\n",
       "      <th>1159</th>\n",
       "      <td>B00AAIPT76</td>\n",
       "      <td>How is the battery?</td>\n",
       "      <td>[]</td>\n",
       "      <td>[]</td>\n",
       "      <td>I bought this after the first spare gopro batt...</td>\n",
       "    </tr>\n",
       "  </tbody>\n",
       "</table>\n",
       "</div>"
      ],
      "text/plain": [
       "           title                        question                answers.text  \\\n",
       "791   B005DKZTMG  Does the keyboard lightweight?  [this keyboard is compact]   \n",
       "1159  B00AAIPT76             How is the battery?                          []   \n",
       "\n",
       "     answers.answer_start                                            context  \n",
       "791                 [215]  I really like this keyboard.  I give it 4 star...  \n",
       "1159                   []  I bought this after the first spare gopro batt...  "
      ]
     },
     "execution_count": 6,
     "metadata": {},
     "output_type": "execute_result"
    }
   ],
   "source": [
    "qa_cols = [\"title\", \"question\", \"answers.text\", \"answers.answer_start\", \"context\"]\n",
    "sample_df = dfs[\"train\"][qa_cols].sample(2, random_state = 7)\n",
    "sample_df"
   ]
  },
  {
   "cell_type": "markdown",
   "id": "1f92fc10",
   "metadata": {},
   "source": [
    "From these examples we can make a few observations. First, the questions are not grammatically correct, which is quite common in the FAQ sections of ecommerce websites. Second, an empty `answers.text` denotes **unanswerable** questions whose answers cannot be found in the review. Finally, we can use the start index and length of the answer span of text in the review that corresponds to the answer:"
   ]
  },
  {
   "cell_type": "code",
   "execution_count": 7,
   "id": "3e1d8b5e",
   "metadata": {},
   "outputs": [
    {
     "data": {
      "text/plain": [
       "'this keyboard is compact'"
      ]
     },
     "execution_count": 7,
     "metadata": {},
     "output_type": "execute_result"
    }
   ],
   "source": [
    "start_idx = sample_df[\"answers.answer_start\"].iloc[0][0]\n",
    "end_idx = start_idx + len(sample_df[\"answers.text\"].iloc[0][0])\n",
    "sample_df[\"context\"].iloc[0][start_idx:end_idx]"
   ]
  },
  {
   "cell_type": "markdown",
   "id": "4ed348e9",
   "metadata": {},
   "source": [
    "Next, let's get a fell for what types of questions are in the training set by counting the questions that begin with a few common starting words:"
   ]
  },
  {
   "cell_type": "code",
   "execution_count": 8,
   "id": "76547816",
   "metadata": {},
   "outputs": [
    {
     "data": {
      "image/png": "[encoded data removed]",
      "text/plain": [
       "<Figure size 640x480 with 1 Axes>"
      ]
     },
     "metadata": {},
     "output_type": "display_data"
    }
   ],
   "source": [
    "counts = {}\n",
    "question_types = [\"What\", \"How\", \"Is\", \"Does\", \"Do\", \"Was\", \"Where\", \"Why\"]\n",
    "\n",
    "for q in question_types:\n",
    "    counts[q] = dfs['train'][\"question\"].str.startswith(q).value_counts()[True]\n",
    "\n",
    "import matplotlib.pyplot as plt\n",
    "%matplotlib inline\n",
    "pd.Series(counts).sort_values().plot.barh()\n",
    "plt.title(\"Frequency of Question Types\")\n",
    "plt.show()    "
   ]
  },
  {
   "cell_type": "markdown",
   "id": "1cf0da26",
   "metadata": {},
   "source": [
    "We can see that questions beginning with `How`, `What`, `Is` are the most common ones, so lets have a look at some examples:"
   ]
  },
  {
   "cell_type": "code",
   "execution_count": 9,
   "id": "81b79581",
   "metadata": {},
   "outputs": [
    {
     "name": "stdout",
     "output_type": "stream",
     "text": [
      "How is the camera?\n",
      "How do you like the control?\n",
      "How fast is the charger?\n",
      "What is direction?\n",
      "What is the quality of the construction of the bag?\n",
      "What is your impression of the product?\n",
      "Is this how zoom works?\n",
      "Is sound clear?\n",
      "Is it a wireless keyboard?\n"
     ]
    }
   ],
   "source": [
    "for question_type in [\"How\", \"What\", \"Is\"]:\n",
    "    for question in (\n",
    "        dfs['train'][dfs['train'].question.str.startswith(question_type)]\n",
    "        .sample(n = 3, random_state = 42)['question']\n",
    "    ):\n",
    "        print(question)"
   ]
  },
  {
   "cell_type": "markdown",
   "id": "5e67a4ff",
   "metadata": {},
   "source": [
    "Now that we've exlpored our dataset a bit, lets dive into understanding how transformers can extract answers from text.\n",
    "\n",
    "## Extracting Answers from Text \n",
    "\n",
    "The first thing we'll need from our QA system is to find a way to identify a potential answer as a span of text in a customer review. To do this, we'll need to understand how to:\n",
    "\n",
    "- Frame the supervised learning probelm.\n",
    "- Tokenize and encode text for QA tasks.\n",
    "- Deal with long passages that exceed a model's maximum context size.\n",
    "\n",
    "Let's start by taking a look at how to frame the problem.\n",
    "\n",
    "### Span Classification\n",
    "\n",
    "The most common way to extract answers from text is by framing the problem as a *span classification* task, where the start and end of the tokens of an answer span act as the labels that a model needs to predict.\n",
    "\n",
    "Since our training set is relatively small, with only 1,295 examples,  a good strategy is to start with a language model that has already been fine-tuned on a large-scale QA dataset like SQuAD. In general, these models have strong reading comprehension capabilities and serve as a good baseline upon which to build a more accurate system. For extractive QA, we can actually start with a fine-tuned model since the structure of the labels remains the same accross datasets.\n",
    "\n",
    "We'll use a fine-tuned `MiniLM` model since it is fast to train and will allow us to quickly iterate on the techniques that we'll be exploring.\n",
    "\n",
    "#### Tokenizing text for QA"
   ]
  },
  {
   "cell_type": "code",
   "execution_count": 10,
   "id": "402eed72",
   "metadata": {},
   "outputs": [],
   "source": [
    "from transformers import AutoTokenizer\n",
    "\n",
    "model_ckpt = \"deepset/minilm-uncased-squad2\"\n",
    "tokenizer =  AutoTokenizer.from_pretrained(model_ckpt)"
   ]
  },
  {
   "cell_type": "code",
   "execution_count": 11,
   "id": "43d33746",
   "metadata": {},
   "outputs": [],
   "source": [
    "question = \"How much music can this hold?\"\n",
    "context = \"An MP3 is about 1 MB/minute, so about 6000 hours depending on file size.\"\n",
    "inputs = tokenizer(question, context, return_tensors = \"pt\")"
   ]
  },
  {
   "cell_type": "markdown",
   "id": "0ef51f08",
   "metadata": {},
   "source": [
    "To understand how the tokenizer formats the inputs for QA tasks , lets decode the `input_ids` tensor:"
   ]
  },
  {
   "cell_type": "code",
   "execution_count": 12,
   "id": "15573ab7",
   "metadata": {},
   "outputs": [
    {
     "name": "stdout",
     "output_type": "stream",
     "text": [
      "[CLS] how much music can this hold? [SEP] an mp3 is about 1 mb / minute, so about 6000 hours depending on file size. [SEP]\n"
     ]
    }
   ],
   "source": [
    "print(tokenizer.decode(inputs[\"input_ids\"][0]))"
   ]
  },
  {
   "cell_type": "markdown",
   "id": "27acaa9e",
   "metadata": {},
   "source": [
    "For QA example, the inputs take the format:\n",
    "\n",
    "    [CLS] question tokens [SEP] context tokens [SEP]\n",
    "\n",
    "where the location of the first [SEP] token is determined by the `token_type_ids`. Now that our text is tokenized, we just need to instantiate the model with a QA head and run the inputs through the forward pass:    "
   ]
  },
  {
   "cell_type": "code",
   "execution_count": 13,
   "id": "2064146c",
   "metadata": {},
   "outputs": [
    {
     "name": "stderr",
     "output_type": "stream",
     "text": [
      "2025-06-02 13:36:02.957887: E external/local_xla/xla/stream_executor/cuda/cuda_fft.cc:467] Unable to register cuFFT factory: Attempting to register factory for plugin cuFFT when one has already been registered\n",
      "WARNING: All log messages before absl::InitializeLog() is called are written to STDERR\n",
      "E0000 00:00:1748851562.972634   52792 cuda_dnn.cc:8579] Unable to register cuDNN factory: Attempting to register factory for plugin cuDNN when one has already been registered\n",
      "E0000 00:00:1748851562.976992   52792 cuda_blas.cc:1407] Unable to register cuBLAS factory: Attempting to register factory for plugin cuBLAS when one has already been registered\n",
      "W0000 00:00:1748851562.990312   52792 computation_placer.cc:177] computation placer already registered. Please check linkage and avoid linking the same target more than once.\n",
      "W0000 00:00:1748851562.990336   52792 computation_placer.cc:177] computation placer already registered. Please check linkage and avoid linking the same target more than once.\n",
      "W0000 00:00:1748851562.990337   52792 computation_placer.cc:177] computation placer already registered. Please check linkage and avoid linking the same target more than once.\n",
      "W0000 00:00:1748851562.990339   52792 computation_placer.cc:177] computation placer already registered. Please check linkage and avoid linking the same target more than once.\n",
      "2025-06-02 13:36:02.994055: I tensorflow/core/platform/cpu_feature_guard.cc:210] This TensorFlow binary is optimized to use available CPU instructions in performance-critical operations.\n",
      "To enable the following instructions: AVX2 FMA, in other operations, rebuild TensorFlow with the appropriate compiler flags.\n",
      "Some weights of the model checkpoint at deepset/minilm-uncased-squad2 were not used when initializing BertForQuestionAnswering: ['bert.pooler.dense.bias', 'bert.pooler.dense.weight']\n",
      "- This IS expected if you are initializing BertForQuestionAnswering from the checkpoint of a model trained on another task or with another architecture (e.g. initializing a BertForSequenceClassification model from a BertForPreTraining model).\n",
      "- This IS NOT expected if you are initializing BertForQuestionAnswering from the checkpoint of a model that you expect to be exactly identical (initializing a BertForSequenceClassification model from a BertForSequenceClassification model).\n"
     ]
    }
   ],
   "source": [
    "import torch \n",
    "from transformers import AutoModelForQuestionAnswering\n",
    "\n",
    "model = AutoModelForQuestionAnswering.from_pretrained(model_ckpt)"
   ]
  },
  {
   "cell_type": "code",
   "execution_count": 14,
   "id": "fbb9542f",
   "metadata": {},
   "outputs": [
    {
     "name": "stdout",
     "output_type": "stream",
     "text": [
      "QuestionAnsweringModelOutput(loss=None, start_logits=tensor([[-0.9862, -4.7750, -5.4025, -5.2378, -5.2863, -5.5117, -4.9819, -6.1880,\n",
      "         -0.9862,  0.2596, -0.2144, -1.7136,  3.7806,  4.8561, -1.0546, -3.9097,\n",
      "         -1.7374, -4.5944, -1.4278,  3.9949,  5.0391, -0.2018, -3.0193, -4.8549,\n",
      "         -2.3107, -3.5110, -3.5713, -0.9862]]), end_logits=tensor([[-0.9623, -5.4733, -5.0326, -5.1639, -5.4278, -5.5151, -5.1749, -4.6233,\n",
      "         -0.9623, -3.7855, -0.8715, -3.7745, -3.0161, -1.1780,  0.1758, -2.7365,\n",
      "          4.8934,  0.3046, -3.1761, -3.2762,  0.8937,  5.6606, -0.3623, -4.9554,\n",
      "         -3.2531, -0.0914,  1.6211, -0.9623]]), hidden_states=None, attentions=None)\n"
     ]
    }
   ],
   "source": [
    "with torch.no_grad():\n",
    "    outputs = model(**inputs)\n",
    "\n",
    "print(outputs)"
   ]
  },
  {
   "cell_type": "markdown",
   "id": "7e93d8e1",
   "metadata": {},
   "source": [
    "Here we can see that we get a QuestionAnsweringModelOutput object as the output of the QA head. The QA head corresponds to a linear layer that takes the hidden states from the encoder and computes the logits for the start and end spans. To convert the outputs into an answer span, we first need to get the logits for the start and end tokens:"
   ]
  },
  {
   "cell_type": "code",
   "execution_count": 15,
   "id": "5680e764",
   "metadata": {},
   "outputs": [],
   "source": [
    "start_logits = outputs.start_logits\n",
    "end_logits = outputs.end_logits"
   ]
  },
  {
   "cell_type": "code",
   "execution_count": 16,
   "id": "e2f3412d",
   "metadata": {},
   "outputs": [
    {
     "name": "stdout",
     "output_type": "stream",
     "text": [
      "Input IDs Shape: torch.Size([1, 28])\n",
      "Start logits shape: torch.Size([1, 28])\n",
      "End logits shape: torch.Size([1, 28])\n"
     ]
    }
   ],
   "source": [
    "print(f\"Input IDs Shape: {inputs.input_ids.size()}\")\n",
    "print(f\"Start logits shape: {start_logits.size()}\")\n",
    "print(f\"End logits shape: {end_logits.size()}\")"
   ]
  },
  {
   "cell_type": "markdown",
   "id": "907c1181",
   "metadata": {},
   "source": [
    "To get the final answer, we can compute the argmax over the start and end token logits and then slice the span from the inputs."
   ]
  },
  {
   "cell_type": "code",
   "execution_count": 17,
   "id": "cb3a9462",
   "metadata": {},
   "outputs": [
    {
     "name": "stdout",
     "output_type": "stream",
     "text": [
      "Question: How much music can this hold?\n",
      "Answer: 6000\n"
     ]
    }
   ],
   "source": [
    "start_idx = torch.argmax(start_logits)\n",
    "end_idx = torch.argmax(end_logits)\n",
    "answer_span =  inputs[\"input_ids\"][0][start_idx:end_idx]\n",
    "answer = tokenizer.decode(answer_span)\n",
    "print(f\"Question: {question}\")\n",
    "print(f\"Answer: {answer}\")"
   ]
  },
  {
   "cell_type": "markdown",
   "id": "bf6b645f",
   "metadata": {},
   "source": [
    "In transformers, all of these prepocessing and postprocessing steps are conveniently wrapped in a dedicated pipeline. We can instantiate the pipeline by passing tokenizer and fine-tuned model as follows:"
   ]
  },
  {
   "cell_type": "code",
   "execution_count": 18,
   "id": "191c97ee",
   "metadata": {},
   "outputs": [
    {
     "name": "stderr",
     "output_type": "stream",
     "text": [
      "Device set to use cuda:0\n",
      "/home/vjay/.pyenv/versions/3.11.12/lib/python3.11/site-packages/transformers/pipelines/question_answering.py:334: UserWarning: topk parameter is deprecated, use top_k instead\n",
      "  warnings.warn(\"topk parameter is deprecated, use top_k instead\", UserWarning)\n"
     ]
    },
    {
     "data": {
      "text/plain": [
       "[{'score': 0.26516327261924744,\n",
       "  'start': 38,\n",
       "  'end': 48,\n",
       "  'answer': '6000 hours'},\n",
       " {'score': 0.22082901000976562,\n",
       "  'start': 16,\n",
       "  'end': 48,\n",
       "  'answer': '1 MB/minute, so about 6000 hours'},\n",
       " {'score': 0.10253418982028961,\n",
       "  'start': 16,\n",
       "  'end': 27,\n",
       "  'answer': '1 MB/minute'}]"
      ]
     },
     "execution_count": 18,
     "metadata": {},
     "output_type": "execute_result"
    }
   ],
   "source": [
    "from transformers import pipeline\n",
    "\n",
    "pipe =  pipeline(\"question-answering\",model = model, tokenizer = tokenizer)\n",
    "pipe(question = question, context = context, topk = 3)"
   ]
  },
  {
   "cell_type": "markdown",
   "id": "76ce552d",
   "metadata": {},
   "source": [
    "In addition to the answer, the pipline returns the model's probability estimate in the score field (obtained by taking a `softmax` over the `logits`).\n",
    "\n",
    "Sometimes, it is possible to have questions for which no answer is possible, like the empty `answers.answer_start` examples in `SubjQA`. In these cases, the model will assign a high start and end score to the [CLS] token, and the pipeline maps this output to an empty string:"
   ]
  },
  {
   "cell_type": "code",
   "execution_count": 19,
   "id": "0012d9c1",
   "metadata": {},
   "outputs": [
    {
     "data": {
      "text/plain": [
       "{'score': 0.9068416357040405, 'start': 0, 'end': 0, 'answer': ''}"
      ]
     },
     "execution_count": 19,
     "metadata": {},
     "output_type": "execute_result"
    }
   ],
   "source": [
    "pipe(question = \"Why is there no data?\",  context = context,\n",
    "     handle_impossible_answer = True)"
   ]
  },
  {
   "cell_type": "markdown",
   "id": "54e6ffd2",
   "metadata": {},
   "source": [
    "### Dealing with long passages\n",
    "\n",
    "One subtlety faced by reading comprehension models is that the context often contains more tokens than the maximum sequence length of the model (which is usually a few hundred tokens at most). \n",
    "\n",
    "The standard way to deal with this is to apply a *sliding window* across the inputs, where each window contains a passage of tokens that fit in the model's context.\n",
    "\n",
    "In transformers, we can set `return _overflowing_tokens` =  `True` in the `tokenizer` to enable the *sliding window*. The size of the sliding window is controlled by `doc_stride`."
   ]
  },
  {
   "cell_type": "code",
   "execution_count": 20,
   "id": "14e26a3b",
   "metadata": {},
   "outputs": [],
   "source": [
    "example = dfs[\"train\"].iloc[0][[\"question\", \"context\"]]\n",
    "tokenized_example = tokenizer(example[\"question\"], example[\"context\"],\n",
    "                              return_overflowing_tokens=True, max_length=100,\n",
    "                              stride=25, truncation = True)"
   ]
  },
  {
   "cell_type": "code",
   "execution_count": 21,
   "id": "e94a220b",
   "metadata": {},
   "outputs": [
    {
     "name": "stdout",
     "output_type": "stream",
     "text": [
      "Window #0 has 100 tokens.\n",
      "Window #1 has 88 tokens.\n"
     ]
    }
   ],
   "source": [
    "## Let's check number of tokens in each window:\n",
    "\n",
    "for idx, window in enumerate(tokenized_example[\"input_ids\"]):\n",
    "    print(f\"Window #{idx} has {len(window)} tokens.\")"
   ]
  },
  {
   "cell_type": "code",
   "execution_count": 22,
   "id": "300bc783",
   "metadata": {},
   "outputs": [
    {
     "name": "stdout",
     "output_type": "stream",
     "text": [
      "[CLS] how is the bass? [SEP] i have had koss headphones in the past, pro 4aa and qz - 99. the koss portapro is portable and has great bass response. the work great with my android phone and can be \" rolled up \" to be carried in my motorcycle jacket or computer bag without getting crunched. they are very light and do not feel heavy or bear down on your ears even after listening to music with them on all day. the sound is [SEP] \n",
      "\n",
      "[CLS] how is the bass? [SEP] and do not feel heavy or bear down on your ears even after listening to music with them on all day. the sound is night and day better than any ear - bud could be and are almost as good as the pro 4aa. they are \" open air \" headphones so you cannot match the bass to the sealed types, but it comes close. for $ 32, you cannot go wrong. [SEP] \n",
      "\n"
     ]
    }
   ],
   "source": [
    "## Lets see where they overlap\n",
    "\n",
    "for window in tokenized_example[\"input_ids\"]:\n",
    "    print(f\"{tokenizer.decode(window)} \\n\")"
   ]
  },
  {
   "cell_type": "markdown",
   "id": "111ab41c",
   "metadata": {},
   "source": [
    "Let's look at the other components we need to build an end-to-end QA pipeline.\n",
    "\n",
    "## Using Haystack to Build a QA Pipeline\n",
    "\n",
    "Modern QA systems are typically based on the **retriever-reader** architecture.\n",
    "\n",
    "    Unstrucured Documents >> **Retriever** >> Document Postprocessing >> **Relevant documents** >> **Reader** >> Answer postprocessing\n",
    "\n",
    "Retriever and Reader are both fed the question/query.    \n",
    "\n",
    "To build our QA system, we'll use `Haystack library` developed by deepset. Haystack is based on the retriever-reader architecture, abstracts much of the complexity involved in building these systems, and integrates tightly with Tranformers.\n",
    "\n",
    "In addition to the retriever and reader, there are two more components involved when building a QA pipeline with Haystack:\n",
    "\n",
    "    - Document store: A document-oriented database that stores documents and metadata which are provided to the retriever at query time.\n",
    "    - Pipeline: Comnbines all the components of a QA system to enable custom query flows, merging documents from multiple retrievers, and more.\n",
    "\n",
    " ### Initailizing a document store\n",
    "\n",
    " In Haystack, there are various document stores to choose from and each one can be paired with a dedicated set of retrievers. The compatibility of sparse (TF-IDF, BM25) and dense (Embedding, DPR) retrievers is shown for each of the available stores.\n",
    "\n",
    " |          | In memory | ElasticSearch | FAISS | Milvus |\n",
    " | -------- | --------- | ------------- | ----- | ------ |\n",
    " | TF-IDF | Yes | Yes | No | No |\n",
    " | BM25 | No | Yes | No | No |\n",
    " | Embedding | Yes | Yes | Yes| Yes|     \n",
    "\n",
    " We'll use **ElasticsearchDocument Store**, which is compatible with both retriever types. Elasticsearch is a search engine that is capable of handling a diverse range of data types, including textual, numerical, geospatial, structured, and unstructured.Its ability to store huge volumes of data and quickly filter it with full-text search features makes it especially well suited for developing QA systems."
   ]
  },
  {
   "cell_type": "code",
   "execution_count": 23,
   "id": "31255a7e",
   "metadata": {},
   "outputs": [
    {
     "name": "stderr",
     "output_type": "stream",
     "text": [
      "/home/vjay/.pyenv/versions/3.11.12/lib/python3.11/site-packages/elasticsearch/connection/http_urllib3.py:209: UserWarning: Connecting to https://localhost:9200 using SSL with verify_certs=False is insecure.\n",
      "  warnings.warn(\n",
      "/home/vjay/.pyenv/versions/3.11.12/lib/python3.11/site-packages/urllib3/connectionpool.py:1064: InsecureRequestWarning: Unverified HTTPS request is being made to host 'localhost'. Adding certificate verification is strongly advised. See: https://urllib3.readthedocs.io/en/1.26.x/advanced-usage.html#ssl-warnings\n",
      "  warnings.warn(\n",
      "/home/vjay/.pyenv/versions/3.11.12/lib/python3.11/site-packages/urllib3/connectionpool.py:1064: InsecureRequestWarning: Unverified HTTPS request is being made to host 'localhost'. Adding certificate verification is strongly advised. See: https://urllib3.readthedocs.io/en/1.26.x/advanced-usage.html#ssl-warnings\n",
      "  warnings.warn(\n",
      "/home/vjay/.pyenv/versions/3.11.12/lib/python3.11/site-packages/urllib3/connectionpool.py:1064: InsecureRequestWarning: Unverified HTTPS request is being made to host 'localhost'. Adding certificate verification is strongly advised. See: https://urllib3.readthedocs.io/en/1.26.x/advanced-usage.html#ssl-warnings\n",
      "  warnings.warn(\n",
      "/home/vjay/.pyenv/versions/3.11.12/lib/python3.11/site-packages/urllib3/connectionpool.py:1064: InsecureRequestWarning: Unverified HTTPS request is being made to host 'localhost'. Adding certificate verification is strongly advised. See: https://urllib3.readthedocs.io/en/1.26.x/advanced-usage.html#ssl-warnings\n",
      "  warnings.warn(\n",
      "/home/vjay/.pyenv/versions/3.11.12/lib/python3.11/site-packages/urllib3/connectionpool.py:1064: InsecureRequestWarning: Unverified HTTPS request is being made to host 'localhost'. Adding certificate verification is strongly advised. See: https://urllib3.readthedocs.io/en/1.26.x/advanced-usage.html#ssl-warnings\n",
      "  warnings.warn(\n",
      "/home/vjay/.pyenv/versions/3.11.12/lib/python3.11/site-packages/urllib3/connectionpool.py:1064: InsecureRequestWarning: Unverified HTTPS request is being made to host 'localhost'. Adding certificate verification is strongly advised. See: https://urllib3.readthedocs.io/en/1.26.x/advanced-usage.html#ssl-warnings\n",
      "  warnings.warn(\n",
      "/home/vjay/.pyenv/versions/3.11.12/lib/python3.11/site-packages/urllib3/connectionpool.py:1064: InsecureRequestWarning: Unverified HTTPS request is being made to host 'localhost'. Adding certificate verification is strongly advised. See: https://urllib3.readthedocs.io/en/1.26.x/advanced-usage.html#ssl-warnings\n",
      "  warnings.warn(\n",
      "This ElasticsearchDocumentStore has been built for Elasticsearch 7, but the detected version of the Elasticsearch server is 9.0.1. Unexpected behaviors or errors may occur due to version incompatibility.\n"
     ]
    }
   ],
   "source": [
    "from haystack.document_stores.elasticsearch import ElasticsearchDocumentStore\n",
    "\n",
    "document_store = ElasticsearchDocumentStore(\n",
    "    host=\"localhost\",\n",
    "    port=9200,\n",
    "    username=\"elastic\",\n",
    "    password=\"e9wYTA640ou8R3ObO4T8\",\n",
    "    scheme=\"https\",             # important: matches curl\n",
    "    verify_certs=False,         # because using self-signed TLS\n",
    "    return_embedding=True\n",
    ")"
   ]
  },
  {
   "cell_type": "code",
   "execution_count": 24,
   "id": "1fe7d255",
   "metadata": {},
   "outputs": [
    {
     "name": "stderr",
     "output_type": "stream",
     "text": [
      "/home/vjay/.pyenv/versions/3.11.12/lib/python3.11/site-packages/urllib3/connectionpool.py:1064: InsecureRequestWarning: Unverified HTTPS request is being made to host 'localhost'. Adding certificate verification is strongly advised. See: https://urllib3.readthedocs.io/en/1.26.x/advanced-usage.html#ssl-warnings\n",
      "  warnings.warn(\n",
      "/home/vjay/.pyenv/versions/3.11.12/lib/python3.11/site-packages/urllib3/connectionpool.py:1064: InsecureRequestWarning: Unverified HTTPS request is being made to host 'localhost'. Adding certificate verification is strongly advised. See: https://urllib3.readthedocs.io/en/1.26.x/advanced-usage.html#ssl-warnings\n",
      "  warnings.warn(\n",
      "/home/vjay/.pyenv/versions/3.11.12/lib/python3.11/site-packages/urllib3/connectionpool.py:1064: InsecureRequestWarning: Unverified HTTPS request is being made to host 'localhost'. Adding certificate verification is strongly advised. See: https://urllib3.readthedocs.io/en/1.26.x/advanced-usage.html#ssl-warnings\n",
      "  warnings.warn(\n",
      "/home/vjay/.pyenv/versions/3.11.12/lib/python3.11/site-packages/urllib3/connectionpool.py:1064: InsecureRequestWarning: Unverified HTTPS request is being made to host 'localhost'. Adding certificate verification is strongly advised. See: https://urllib3.readthedocs.io/en/1.26.x/advanced-usage.html#ssl-warnings\n",
      "  warnings.warn(\n",
      "/home/vjay/.pyenv/versions/3.11.12/lib/python3.11/site-packages/urllib3/connectionpool.py:1064: InsecureRequestWarning: Unverified HTTPS request is being made to host 'localhost'. Adding certificate verification is strongly advised. See: https://urllib3.readthedocs.io/en/1.26.x/advanced-usage.html#ssl-warnings\n",
      "  warnings.warn(\n",
      "/home/vjay/.pyenv/versions/3.11.12/lib/python3.11/site-packages/urllib3/connectionpool.py:1064: InsecureRequestWarning: Unverified HTTPS request is being made to host 'localhost'. Adding certificate verification is strongly advised. See: https://urllib3.readthedocs.io/en/1.26.x/advanced-usage.html#ssl-warnings\n",
      "  warnings.warn(\n",
      "/home/vjay/.pyenv/versions/3.11.12/lib/python3.11/site-packages/urllib3/connectionpool.py:1064: InsecureRequestWarning: Unverified HTTPS request is being made to host 'localhost'. Adding certificate verification is strongly advised. See: https://urllib3.readthedocs.io/en/1.26.x/advanced-usage.html#ssl-warnings\n",
      "  warnings.warn(\n",
      "/home/vjay/.pyenv/versions/3.11.12/lib/python3.11/site-packages/urllib3/connectionpool.py:1064: InsecureRequestWarning: Unverified HTTPS request is being made to host 'localhost'. Adding certificate verification is strongly advised. See: https://urllib3.readthedocs.io/en/1.26.x/advanced-usage.html#ssl-warnings\n",
      "  warnings.warn(\n"
     ]
    },
    {
     "name": "stdout",
     "output_type": "stream",
     "text": [
      "Loaded 1615 documents\n"
     ]
    },
    {
     "name": "stderr",
     "output_type": "stream",
     "text": [
      "/home/vjay/.pyenv/versions/3.11.12/lib/python3.11/site-packages/urllib3/connectionpool.py:1064: InsecureRequestWarning: Unverified HTTPS request is being made to host 'localhost'. Adding certificate verification is strongly advised. See: https://urllib3.readthedocs.io/en/1.26.x/advanced-usage.html#ssl-warnings\n",
      "  warnings.warn(\n"
     ]
    }
   ],
   "source": [
    "for split, df in dfs.items():\n",
    "    docs = [{\n",
    "        \"content\": row[\"context\"],\n",
    "        \"meta\": {\n",
    "            \"item_id\": row[\"title\"],\n",
    "            \"question_id\": row[\"id\"],\n",
    "            \"split\": split\n",
    "        }\n",
    "    } for _, row in df.drop_duplicates(subset=\"context\").iterrows()]\n",
    "    \n",
    "    document_store.write_documents(docs, index=\"document\")\n",
    "\n",
    "print(f\"Loaded {document_store.get_document_count()} documents\")\n"
   ]
  },
  {
   "cell_type": "markdown",
   "id": "3c50eec4",
   "metadata": {},
   "source": [
    "Great, we've loaded our reviews into an index! To search the index we''ll need a retriever, so let's look at how we can initialize one for Elasticsearch.\n",
    "\n",
    "### Initializing a Retriever\n",
    "\n",
    "Let's start by using a sparse retriever based on `BM25` (short for \"Best Match 25\"). The BM23 score measures how much matched text is about a search query and improves on `TF-IDF` by saturating **TF** values quickly and normalizing the document length so that short documents are favored over long ones.\n"
   ]
  },
  {
   "cell_type": "code",
   "execution_count": 25,
   "id": "0d0e592c",
   "metadata": {},
   "outputs": [],
   "source": [
    "from haystack.nodes import BM25Retriever\n",
    "\n",
    "bm_retriever = BM25Retriever(document_store = document_store)"
   ]
  },
  {
   "cell_type": "markdown",
   "id": "847238a7",
   "metadata": {},
   "source": [
    "For review-based QA systems like ours, it's important to restrict the queries to a single item because otherwise the retriever would source reviews about products that are not related to user's query.\n",
    "\n",
    "By themselves, the **ASIN values** in our dataset are a bit cryptic, but we can decipher them with online tools like amazon ASIN or by simply appending the value of item_id to the www.amazon.com/dp/ URL. The following item ID corresponds to one of Amazon’s Fire tablets, so let’s use the retriever’s `retrieve()` method to ask if it’s any good for reading with:"
   ]
  },
  {
   "cell_type": "code",
   "execution_count": 26,
   "id": "0f78a940",
   "metadata": {},
   "outputs": [
    {
     "name": "stderr",
     "output_type": "stream",
     "text": [
      "/home/vjay/.pyenv/versions/3.11.12/lib/python3.11/site-packages/urllib3/connectionpool.py:1064: InsecureRequestWarning: Unverified HTTPS request is being made to host 'localhost'. Adding certificate verification is strongly advised. See: https://urllib3.readthedocs.io/en/1.26.x/advanced-usage.html#ssl-warnings\n",
      "  warnings.warn(\n"
     ]
    }
   ],
   "source": [
    "item_id = \"B0074BW614\"\n",
    "query = \"Is it good for reading?\"\n",
    "retrieved_docs = bm_retriever.retrieve(\n",
    "    query = query, top_k = 3, filters = {\"item_id\": [item_id], \"split\": [\"train\"]}\n",
    ")"
   ]
  },
  {
   "cell_type": "markdown",
   "id": "002fa0c7",
   "metadata": {},
   "source": [
    "Each element of `retrieved_docs` is a **Haystack Document** object that is used to represent documents and includes the retriever's query score along with other metadata."
   ]
  },
  {
   "cell_type": "code",
   "execution_count": 27,
   "id": "9a848e08",
   "metadata": {},
   "outputs": [
    {
     "name": "stdout",
     "output_type": "stream",
     "text": [
      "{'content': 'This is a gift to myself.  I have been a kindle user for 4 years and this is my third one.  I never thought I would want a fire for I mainly use it for book reading.  I decided to try the fire for when I travel I take my laptop, my phone and my iPod classic.  I love my iPod but watching movies on the plane with it can be challenging because it is so small. Laptops battery life is not as good as the Kindle.  So the Fire combines for me what I needed all three to do. So far so good.', 'content_type': 'text', 'score': 0.6857824513476455, 'meta': {'item_id': 'B0074BW614', 'question_id': '868e311275e26dbafe5af70774a300f3', 'split': 'train'}, 'id_hash_keys': ['content'], 'embedding': None, 'id': '252e83e25d52df7311d597dc89eef9f6'}\n"
     ]
    }
   ],
   "source": [
    "print(retrieved_docs[0].to_dict())"
   ]
  },
  {
   "cell_type": "markdown",
   "id": "5cfb42d4",
   "metadata": {},
   "source": [
    "In addition to the document's text, we can see the score that Elasticsearch computed for its relevance to the query (large score imply a better match). Under the hood, Elasticsearch relies on (**Lucene**)[!https://lucene.apache.org] for indexing and search, so by default it uses Lucene's practical scoring function. In brief terms, it first filters the candidate documents by applying a Boolean test (does the document match the query?), and then applies a similarity test that's based on representing both the document and the query as vectors.\n",
    "\n",
    "Now we need to extract answers from them. This is where the `reader` comes in, so lets load our MiniLM model in Haystack.\n",
    "\n",
    "### Initializing a reader\n",
    "\n",
    "In Haystack, there are two types of readers:\n",
    "\n",
    "1. `FARMReader`: Based on deepset's *FARM* framework for fine-tuning anf deploying transformers. Compatible with models trained using Hugging Face transformers and can load models directly from Hugging Face Hub.\n",
    "\n",
    "2. `TransformersReader`: Based on the QA pipeline from Hugging Face Transformers. Suitable for **running inference** only.\n",
    "\n",
    "Since we will be fine-tuning the reader later in the chapter, we’ll use the `FARMReader`."
   ]
  },
  {
   "cell_type": "code",
   "execution_count": 28,
   "id": "b3aac255",
   "metadata": {},
   "outputs": [
    {
     "name": "stderr",
     "output_type": "stream",
     "text": [
      "Some weights of the model checkpoint at deepset/minilm-uncased-squad2 were not used when initializing BertForQuestionAnswering: ['bert.pooler.dense.bias', 'bert.pooler.dense.weight']\n",
      "- This IS expected if you are initializing BertForQuestionAnswering from the checkpoint of a model trained on another task or with another architecture (e.g. initializing a BertForSequenceClassification model from a BertForPreTraining model).\n",
      "- This IS NOT expected if you are initializing BertForQuestionAnswering from the checkpoint of a model that you expect to be exactly identical (initializing a BertForSequenceClassification model from a BertForSequenceClassification model).\n"
     ]
    }
   ],
   "source": [
    "from haystack.nodes import FARMReader\n",
    "\n",
    "model_ckpt = \"deepset/minilm-uncased-squad2\"\n",
    "max_seq_length, doc_stride = 384, 128\n",
    "reader = FARMReader(model_name_or_path = model_ckpt, progress_bar = False,\n",
    "                    max_seq_len = max_seq_length, doc_stride = doc_stride,\n",
    "                    return_no_answer = True)"
   ]
  },
  {
   "cell_type": "code",
   "execution_count": 29,
   "id": "068bd617",
   "metadata": {},
   "outputs": [
    {
     "name": "stdout",
     "output_type": "stream",
     "text": [
      "{'query': 'How much music can this hold?', 'no_ans_gap': np.float32(12.648085), 'answers': [<Answer {'answer': '6000 hours', 'type': 'extractive', 'score': 0.5293067097663879, 'context': 'An MP3 is about 1 MB/minute, so about 6000 hours depending on file size.', 'offsets_in_document': [{'start': 38, 'end': 48}], 'offsets_in_context': [{'start': 38, 'end': 48}], 'document_ids': ['e344757014e804eff50faa3ecf1c9c75'], 'meta': {}}>]}\n"
     ]
    }
   ],
   "source": [
    "print(reader.predict_on_texts(question = question, texts = [context], top_k = 1))"
   ]
  },
  {
   "cell_type": "markdown",
   "id": "17abf029",
   "metadata": {},
   "source": [
    "Great, the reader appears to be working as expected—so next, let’s tie together all our components using one of Haystack’s pipelines.\n",
    "\n",
    "### Putting it all together\n",
    "\n",
    "Haystack provides a Pipeline abstraction that allows us to combine retrievers, readers, and other components together as a graph that can be easily customized for each use case. There are also predefined pipelines analogous to those in Hugging Face Transformers, but specialized for QA systems. "
   ]
  },
  {
   "cell_type": "code",
   "execution_count": 30,
   "id": "6eb2ae50",
   "metadata": {},
   "outputs": [],
   "source": [
    "from haystack.pipelines import ExtractiveQAPipeline\n",
    "\n",
    "pipe = ExtractiveQAPipeline(reader, bm_retriever)  ## It takes a single retriever-reader pair as its argument."
   ]
  },
  {
   "cell_type": "code",
   "execution_count": 34,
   "id": "6902c1ae",
   "metadata": {},
   "outputs": [
    {
     "name": "stdout",
     "output_type": "stream",
     "text": [
      "Question: Is it good for reading? \n",
      "\n",
      "Answer 1: it is great for reading books when no light is available\n",
      "Review snippet: ...ecoming addicted to hers! Our son LOVES it and it is great for reading books when no light is available. Amazing sound but I suggest good headphones t...\n",
      "\n",
      "\n",
      "\n",
      "Answer 2: I mainly use it for book reading\n",
      "Review snippet: ... is my third one.  I never thought I would want a fire for I mainly use it for book reading.  I decided to try the fire for when I travel I take my la...\n",
      "\n",
      "\n",
      "\n",
      "Answer 3: \n",
      "Review snippet: ...None...\n",
      "\n",
      "\n",
      "\n"
     ]
    },
    {
     "name": "stderr",
     "output_type": "stream",
     "text": [
      "/home/vjay/.pyenv/versions/3.11.12/lib/python3.11/site-packages/urllib3/connectionpool.py:1064: InsecureRequestWarning: Unverified HTTPS request is being made to host 'localhost'. Adding certificate verification is strongly advised. See: https://urllib3.readthedocs.io/en/1.26.x/advanced-usage.html#ssl-warnings\n",
      "  warnings.warn(\n"
     ]
    }
   ],
   "source": [
    "n_answers = 3\n",
    "\n",
    "preds = pipe.run(\n",
    "    query=query,\n",
    "    params={\n",
    "        \"Retriever\": {\"top_k\": 3, \"filters\": {\"item_id\": [item_id], \"split\": [\"train\"]}},\n",
    "        \"Reader\": {\"top_k\": n_answers}\n",
    "    }\n",
    ")\n",
    "\n",
    "print(f\"Question: {preds['query']} \\n\")\n",
    "\n",
    "for idx in range(n_answers):\n",
    "    answer_obj = preds['answers'][idx]\n",
    "    print(f\"Answer {idx+1}: {answer_obj.answer}\")\n",
    "    print(f\"Review snippet: ...{answer_obj.context}...\")\n",
    "    print(\"\\n\\n\")\n"
   ]
  },
  {
   "cell_type": "markdown",
   "id": "c08a0a32",
   "metadata": {},
   "source": [
    "Great, we now have an end-to-end QA system for Amazon product reviews!"
   ]
  },
  {
   "cell_type": "markdown",
   "id": "988c124b",
   "metadata": {},
   "source": []
  }
 ],
 "metadata": {
  "kernelspec": {
   "display_name": "3.11.12",
   "language": "python",
   "name": "python3"
  },
  "language_info": {
   "codemirror_mode": {
    "name": "ipython",
    "version": 3
   },
   "file_extension": ".py",
   "mimetype": "text/x-python",
   "name": "python",
   "nbconvert_exporter": "python",
   "pygments_lexer": "ipython3",
   "version": "3.11.12"
  }
 },
 "nbformat": 4,
 "nbformat_minor": 5
}
